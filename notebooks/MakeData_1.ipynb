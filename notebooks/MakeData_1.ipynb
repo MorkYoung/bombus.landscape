{
 "cells": [
  {
   "cell_type": "markdown",
   "metadata": {
    "toc": true
   },
   "source": [
    "<h1>Table of Contents<span class=\"tocSkip\"></span></h1>\n",
    "<div class=\"toc\"><ul class=\"toc-item\"><li><span><a href=\"#Import-Libraries\" data-toc-modified-id=\"Import-Libraries-1\"><span class=\"toc-item-num\">1&nbsp;&nbsp;</span>Import Libraries</a></span></li><li><span><a href=\"#QIIME-Processing\" data-toc-modified-id=\"QIIME-Processing-2\"><span class=\"toc-item-num\">2&nbsp;&nbsp;</span>QIIME Processing</a></span><ul class=\"toc-item\"><li><span><a href=\"#Try-colapsing-ASVs-into-99%-OTUs\" data-toc-modified-id=\"Try-colapsing-ASVs-into-99%-OTUs-2.1\"><span class=\"toc-item-num\">2.1&nbsp;&nbsp;</span>Try colapsing ASVs into 99% OTUs</a></span><ul class=\"toc-item\"><li><span><a href=\"#Create-a-new-taxonomy\" data-toc-modified-id=\"Create-a-new-taxonomy-2.1.1\"><span class=\"toc-item-num\">2.1.1&nbsp;&nbsp;</span>Create a new taxonomy</a></span></li><li><span><a href=\"#Remove-bumblebee-sequences-from-table\" data-toc-modified-id=\"Remove-bumblebee-sequences-from-table-2.1.2\"><span class=\"toc-item-num\">2.1.2&nbsp;&nbsp;</span>Remove bumblebee sequences from table</a></span></li><li><span><a href=\"#Save-files\" data-toc-modified-id=\"Save-files-2.1.3\"><span class=\"toc-item-num\">2.1.3&nbsp;&nbsp;</span>Save files</a></span></li><li><span><a href=\"#Create-a-tree\" data-toc-modified-id=\"Create-a-tree-2.1.4\"><span class=\"toc-item-num\">2.1.4&nbsp;&nbsp;</span>Create a tree</a></span></li></ul></li><li><span><a href=\"#Create-a-rarefied-table\" data-toc-modified-id=\"Create-a-rarefied-table-2.2\"><span class=\"toc-item-num\">2.2&nbsp;&nbsp;</span>Create a rarefied table</a></span></li><li><span><a href=\"#Create-a-level-6-taxonomy-table\" data-toc-modified-id=\"Create-a-level-6-taxonomy-table-2.3\"><span class=\"toc-item-num\">2.3&nbsp;&nbsp;</span>Create a level-6 taxonomy table</a></span></li></ul></li></ul></div>"
   ]
  },
  {
   "cell_type": "markdown",
   "metadata": {
    "tags": []
   },
   "source": [
    "# Import Libraries"
   ]
  },
  {
   "cell_type": "markdown",
   "metadata": {},
   "source": [
    "**Third notebook in analysis** \n",
    "\n",
    "**Creates OTU feature table**"
   ]
  },
  {
   "cell_type": "code",
   "execution_count": 2,
   "metadata": {},
   "outputs": [],
   "source": [
    "import os\n",
    "from qiime2.plugins import feature_table, taxa, composition, alignment, phylogeny, diversity\n",
    "from qiime2.plugins.vsearch.methods import cluster_features_de_novo\n",
    "from qiime2.plugins.feature_classifier.methods import classify_sklearn\n",
    "from qiime2.plugins.taxa.methods import filter_table\n",
    "from qiime2 import Artifact, Metadata, Visualization\n",
    "import pandas as pd\n",
    "import numpy as np\n",
    "from qiime2.plugins.feature_table.methods import filter_samples\n",
    "from qiime2.plugins.taxa.methods import collapse\n",
    "datapath = '../Data'"
   ]
  },
  {
   "cell_type": "markdown",
   "metadata": {},
   "source": [
    "# QIIME Processing"
   ]
  },
  {
   "cell_type": "markdown",
   "metadata": {},
   "source": [
    "The feature table, representative sequences, and taxonomy were all calculated separately on the Colby HPC cluster. \n",
    "\n",
    "1. Read the feature table, metadata, rep seqs and taxonomy\n",
    "\n",
    "2. Filter feature table to exclude things not in the metadata\n",
    "\n",
    "3. Use mafft to align the representative sequences \n",
    "\n",
    "4. Use fasttree to make an unrooted tree from the alignment, then midpoint root it "
   ]
  },
  {
   "cell_type": "code",
   "execution_count": 3,
   "metadata": {},
   "outputs": [],
   "source": [
    "merged_table = Artifact.load(os.path.join(datapath, 'qiime/merged_table.qza'))\n",
    "# fix sample ids\n",
    "mt = merged_table.view(pd.DataFrame)\n",
    "# make qiime compliant\n",
    "mt.index = pd.Series(mt.index).apply(lambda x: str(x).replace(\"-\",\"_\"))\n",
    "# Fix mistakes on 2019 Submission Sheet\n",
    "mt.index = pd.Series(mt.index).apply(lambda x: 'FJ190628_006' if x == 'Fj190628_006' else x )\n",
    "mt.index = pd.Series(mt.index).apply(lambda x: 'FJ190827_005' if x == 'FJ190827_005_P3' else x )\n",
    "mt.index = pd.Series(mt.index).apply(lambda x: 'FJ190827_022' if x == 'FJ190827_005_P4' else x )\n",
    "# reat back in \n",
    "merged_table = Artifact.import_data('FeatureTable[Frequency]', mt)\n",
    "\n",
    "# get metadata\n",
    "bombusMeta = Metadata.load(os.path.join(datapath, 'BombusMetadata.tsv'))\n",
    "\n",
    "# only samples in the metadata \n",
    "merged_table = feature_table.methods.filter_samples(table = merged_table, metadata = bombusMeta).filtered_table\n",
    "\n",
    "rep_seqs = Artifact.load(os.path.join(datapath, 'qiime/merged_rep-seqs.qza'))\n"
   ]
  },
  {
   "cell_type": "markdown",
   "metadata": {},
   "source": [
    "## Try colapsing ASVs into 99% OTUs"
   ]
  },
  {
   "cell_type": "code",
   "execution_count": 17,
   "metadata": {
    "collapsed": true,
    "jupyter": {
     "outputs_hidden": true
    },
    "scrolled": true
   },
   "outputs": [
    {
     "name": "stdout",
     "output_type": "stream",
     "text": [
      "Running external command line application. This may print messages to stdout and/or stderr.\n",
      "The command being run is below. This command cannot be manually re-run as it will depend on temporary files that no longer exist.\n",
      "\n",
      "Command: vsearch --cluster_size /var/folders/kk/vx23v0b52wv0sx4vqhls42dw0000gn/T/tmptewde669 --id 0.99 --centroids /var/folders/kk/vx23v0b52wv0sx4vqhls42dw0000gn/T/q2-DNAFASTAFormat-stpu0cio --uc /var/folders/kk/vx23v0b52wv0sx4vqhls42dw0000gn/T/tmpikss04ir --qmask none --xsize --threads 0 --minseqlength 1 --fasta_width 0\n",
      "\n"
     ]
    },
    {
     "name": "stderr",
     "output_type": "stream",
     "text": [
      "vsearch v2.21.1_macos_x86_64, 8.0GB RAM, 4 cores\n",
      "https://github.com/torognes/vsearch\n",
      "\n",
      "Reading file /var/folders/kk/vx23v0b52wv0sx4vqhls42dw0000gn/T/tmptewde669 100%\n",
      "1349183 nt in 3752 seqs, min 241, max 480, avg 360\n",
      "Sorting by abundance 100%\n",
      "Counting k-mers 100%\n",
      "Clustering 100%\n",
      "Sorting clusters 100%\n",
      "Writing clusters 100%\n",
      "Clusters: 2747 Size min 1, max 27, avg 1.4\n",
      "Singletons: 2286, 60.9% of seqs, 83.2% of clusters\n"
     ]
    }
   ],
   "source": [
    "mt_99, rep_seqs_99 = cluster_features_de_novo(sequences = rep_seqs,\n",
    "                                table = Artifact.import_data('FeatureTable[Frequency]', mt),\n",
    "                                perc_identity = .99,threads = 0) "
   ]
  },
  {
   "cell_type": "markdown",
   "metadata": {},
   "source": [
    "**filter samples from metadata**"
   ]
  },
  {
   "cell_type": "code",
   "execution_count": 18,
   "metadata": {},
   "outputs": [],
   "source": [
    "mt_99 = feature_table.methods.filter_samples(table = mt_99, metadata = bombusMeta).filtered_table"
   ]
  },
  {
   "cell_type": "markdown",
   "metadata": {},
   "source": [
    "### Create a new taxonomy"
   ]
  },
  {
   "cell_type": "code",
   "execution_count": 5,
   "metadata": {},
   "outputs": [],
   "source": [
    "classifier = Artifact.load(os.path.join(datapath, 'qiime/silva-138-99-nb-classifier.qza'))"
   ]
  },
  {
   "cell_type": "code",
   "execution_count": 11,
   "metadata": {},
   "outputs": [],
   "source": [
    "taxonomy_99 = classify_sklearn(reads = rep_seqs_99, classifier = classifier,  n_jobs = -2, \n",
    "               confidence = 0.7, read_orientation = 'auto')"
   ]
  },
  {
   "cell_type": "code",
   "execution_count": 16,
   "metadata": {
    "collapsed": true,
    "jupyter": {
     "outputs_hidden": true
    }
   },
   "outputs": [
    {
     "data": {
      "text/html": [
       "<div>\n",
       "<style scoped>\n",
       "    .dataframe tbody tr th:only-of-type {\n",
       "        vertical-align: middle;\n",
       "    }\n",
       "\n",
       "    .dataframe tbody tr th {\n",
       "        vertical-align: top;\n",
       "    }\n",
       "\n",
       "    .dataframe thead th {\n",
       "        text-align: right;\n",
       "    }\n",
       "</style>\n",
       "<table border=\"1\" class=\"dataframe\">\n",
       "  <thead>\n",
       "    <tr style=\"text-align: right;\">\n",
       "      <th></th>\n",
       "      <th>Taxon</th>\n",
       "      <th>Confidence</th>\n",
       "    </tr>\n",
       "    <tr>\n",
       "      <th>Feature ID</th>\n",
       "      <th></th>\n",
       "      <th></th>\n",
       "    </tr>\n",
       "  </thead>\n",
       "  <tbody>\n",
       "    <tr>\n",
       "      <th>adb56f9c8af5f07d15e8a475f2ce03ec</th>\n",
       "      <td>d__Eukaryota; p__Arthropoda; c__Insecta; o__Hy...</td>\n",
       "      <td>0.9705258651997525</td>\n",
       "    </tr>\n",
       "    <tr>\n",
       "      <th>f6c9d40bde4db43a0620dad7bc17c4d3</th>\n",
       "      <td>d__Eukaryota; p__Arthropoda; c__Insecta; o__Hy...</td>\n",
       "      <td>0.9125041159664535</td>\n",
       "    </tr>\n",
       "    <tr>\n",
       "      <th>47b1736403fb15c85e00e56c837c9c8b</th>\n",
       "      <td>d__Eukaryota; p__Arthropoda; c__Insecta; o__Hy...</td>\n",
       "      <td>0.9082495495730497</td>\n",
       "    </tr>\n",
       "    <tr>\n",
       "      <th>1c0daf378005442f7b897b1c8b96d48d</th>\n",
       "      <td>d__Eukaryota; p__Arthropoda; c__Insecta; o__Hy...</td>\n",
       "      <td>0.9987674506937081</td>\n",
       "    </tr>\n",
       "  </tbody>\n",
       "</table>\n",
       "</div>"
      ],
      "text/plain": [
       "                                                                              Taxon  \\\n",
       "Feature ID                                                                            \n",
       "adb56f9c8af5f07d15e8a475f2ce03ec  d__Eukaryota; p__Arthropoda; c__Insecta; o__Hy...   \n",
       "f6c9d40bde4db43a0620dad7bc17c4d3  d__Eukaryota; p__Arthropoda; c__Insecta; o__Hy...   \n",
       "47b1736403fb15c85e00e56c837c9c8b  d__Eukaryota; p__Arthropoda; c__Insecta; o__Hy...   \n",
       "1c0daf378005442f7b897b1c8b96d48d  d__Eukaryota; p__Arthropoda; c__Insecta; o__Hy...   \n",
       "\n",
       "                                          Confidence  \n",
       "Feature ID                                            \n",
       "adb56f9c8af5f07d15e8a475f2ce03ec  0.9705258651997525  \n",
       "f6c9d40bde4db43a0620dad7bc17c4d3  0.9125041159664535  \n",
       "47b1736403fb15c85e00e56c837c9c8b  0.9082495495730497  \n",
       "1c0daf378005442f7b897b1c8b96d48d  0.9987674506937081  "
      ]
     },
     "execution_count": 16,
     "metadata": {},
     "output_type": "execute_result"
    }
   ],
   "source": [
    "taxa_99.view(pd.DataFrame)[taxa_99.view(pd.DataFrame)['Taxon'].str.contains('Insec')]"
   ]
  },
  {
   "cell_type": "markdown",
   "metadata": {},
   "source": [
    "### Remove bumblebee sequences from table "
   ]
  },
  {
   "cell_type": "markdown",
   "metadata": {},
   "source": [
    "investigate"
   ]
  },
  {
   "cell_type": "code",
   "execution_count": 22,
   "metadata": {},
   "outputs": [],
   "source": [
    "taxa_99 = Artifact.load(os.path.join(datapath, 'qiime', 'taxonomy_99.qza'))\n",
    "\n"
   ]
  },
  {
   "cell_type": "code",
   "execution_count": 23,
   "metadata": {},
   "outputs": [],
   "source": [
    "bombus_seqs = pd.DataFrame(rep_seqs_99.view(pd.Series)).join(taxa_99.view(pd.DataFrame\\\n",
    "        )[taxa_99.view(pd.DataFrame)['Taxon'].str.contains('Insec')])\n",
    "bombus_seqs = bombus_seqs.dropna().copy()\n",
    "bombus_seqs[0] = bombus_seqs[0].apply(str)"
   ]
  },
  {
   "cell_type": "markdown",
   "metadata": {},
   "source": [
    "according to blastn, a bee (even after bombus was removed!)"
   ]
  },
  {
   "cell_type": "code",
   "execution_count": 38,
   "metadata": {},
   "outputs": [
    {
     "data": {
      "text/plain": [
       "'GGATTGACAGATTGATAGCTCTTTCTTGATTCGGTGGGTGGTGGTGCATGGCCGTTCTTAGTTGGTGGAGCGATTTGTCTGGTTAATTCCGATAACGAACGAGACTCTAGCCTGCTAAATAGACGTAACTTATGGTATCTCGAAGGCCCCCGGCTTCGGTCGGTGGGTTTTTACTACCAACGTACAAACAAATCTTCTTAGAGGAACAGGCGGCTTCTAGCCGCACGAGATTGAGCAATAACAGGTCTGTGATGCCCTTAGATGTTCTGGGCCGCACGCGCGCTACACTGAAGGAATCAGCGTGTTTTCCCTGGCCGAAAGGCCCGGGTAACCCGCTGAACCTCCTTCGTGCTAGGGATTGGGGCTTGCAATTATTCCCCATGAACGAGGAATTCCCAGTAAGCGCGAGTCATAAGCTCGCGTT'"
      ]
     },
     "execution_count": 38,
     "metadata": {},
     "output_type": "execute_result"
    }
   ],
   "source": [
    "bombus_seqs.loc['adb56f9c8af5f07d15e8a475f2ce03ec', 0]"
   ]
  },
  {
   "cell_type": "markdown",
   "metadata": {},
   "source": [
    "a bee"
   ]
  },
  {
   "cell_type": "code",
   "execution_count": 42,
   "metadata": {},
   "outputs": [
    {
     "data": {
      "text/plain": [
       "'AGTTGTTGCGGTTAAAAAGCTCGTAGTTGAATCTGTGTGTCACAGTGTCGGTTCACCGCTCGCGGTGTTTAACTGGCATTATGTGGTACGTCCTATCGGTGGGCTTAGCTCCTCGCGGGCGGTCCAACTAATATCCCATCGCGGTGCTCTTCACTGAGTGTCGAGGTGGGCCGATACGTTTACTTTGAACAAATTAGAGTGCTTAAAGCAGGCTACCTTCGCCTGAATACTGTGTGCATGGAATAATGGAATAGGACCTCGGTTCTATTTTGTTGGTTTTCGGAGCCCCGAGGTAATGATTAATAGGGACAGATGGGGGCATTCGTATTGCGACGTTAGAGGTGAAATTCTTGGATCGTCGCAAGACGGACAGAAGCGAAAGCATTTGCCAAAAATGTTTTCATTAATCAAGAAC'"
      ]
     },
     "execution_count": 42,
     "metadata": {},
     "output_type": "execute_result"
    }
   ],
   "source": [
    "bombus_seqs.iloc[1][0]"
   ]
  },
  {
   "cell_type": "markdown",
   "metadata": {},
   "source": [
    "Another bee"
   ]
  },
  {
   "cell_type": "code",
   "execution_count": 43,
   "metadata": {},
   "outputs": [
    {
     "data": {
      "text/plain": [
       "'GGATTGACAGATTTATAGCTCTTTCTTGATTCGGTGGGTGGTGGTGCATGGCCGTTCTTAGTTGGTGGAGCGATTTGTCTGGTTAATTCCGATAACGAACGAGACTCTAGCCTGCTAAATAGACGTAACTTATGGTATCACGAAGGTCCCCGACTTCGGTCGGTGGGTTTTTACTACCAACGTACAAACAAATCTTCTTAGAGGGACAGGCGGCTTCTAGCCGCACGAGATTGAGCAATAACAGGTCTGTGATGCCCTTAGATGTTCTGGGCCGCACGCGCGCTACACTGAAGGAATCAGCGTGTTTTCCCTGGCCGAAAGGCCCGGGTAACCCGCTGAACCTCCTTCGTGCTAGGGATTGGGGCTTGCAATTATTCCCCATGAACGAGGAATTCCCAGTAAGCGCGAGTCATAAGCTCGCGTT'"
      ]
     },
     "execution_count": 43,
     "metadata": {},
     "output_type": "execute_result"
    }
   ],
   "source": [
    "bombus_seqs.iloc[2][0]"
   ]
  },
  {
   "cell_type": "markdown",
   "metadata": {},
   "source": [
    "a bee"
   ]
  },
  {
   "cell_type": "code",
   "execution_count": 45,
   "metadata": {},
   "outputs": [
    {
     "data": {
      "text/plain": [
       "'GGATTGACAGATTGATAGCTCTTTCTTGATTCGGTGGGTGGTGGTGCATGGCCGTTCTTAGTTGGTGGAGCGATTTGTCTGGTTAATTCCGATAACGAACGAGACTCTAGCCTGTTAAATAGACGTAAATTATGGTATCTCGAAGGCCCCCGACTTCGGTCGGTGTGGTTTTTACTACCAACGTACAAACAAATCTTCTTAGAGGGACAAGCGGCTTCTAGTCGCACGAGATTGAGCAATAACAGGTCTGTGATGCCCTTAGATGTTCTGGGCCGCACGCGCGCTACACTGAAGGAATCAACGTGTTTTCCCTGGCCGAAAGGTCCGGGTAACCCGCTGAAACTCCTTCGTGCTAGGGATTGGGGCTTGAAATTATTCCCCATGAACGAGGAATTCCCAGTAAACGCGAGTCATAAGCTCGCGTT'"
      ]
     },
     "execution_count": 45,
     "metadata": {},
     "output_type": "execute_result"
    }
   ],
   "source": [
    "bombus_seqs.iloc[3][0]"
   ]
  },
  {
   "cell_type": "markdown",
   "metadata": {},
   "source": [
    "besides the bees, there are a bunch of fungus and a couple plant OTUs. They don't add up to a lot though (max 1%)"
   ]
  },
  {
   "cell_type": "markdown",
   "metadata": {},
   "source": [
    "**save the full table for the manuscript**"
   ]
  },
  {
   "cell_type": "code",
   "execution_count": 65,
   "metadata": {},
   "outputs": [],
   "source": [
    "taxa_99.view(pd.DataFrame).join(mt_99.view(pd.DataFrame).transpose()).to_csv('../data/table/OTU_table_full.tsv',\n",
    "                                                                             sep = '\\t')"
   ]
  },
  {
   "cell_type": "code",
   "execution_count": 67,
   "metadata": {},
   "outputs": [],
   "source": [
    "mt_99 = filter_table(table = mt_99, taxonomy = taxa_99,\n",
    "                    exclude = 'd__Eukaryota; p__Arthropoda; c__Insecta').filtered_table"
   ]
  },
  {
   "cell_type": "markdown",
   "metadata": {
    "tags": []
   },
   "source": [
    "### Save files \n",
    "(they took too long to make to do it again!)\n",
    "- feature table \n",
    "- representative sequences \n",
    "- new taxonomy "
   ]
  },
  {
   "cell_type": "code",
   "execution_count": 68,
   "metadata": {},
   "outputs": [
    {
     "data": {
      "text/plain": [
       "'../Data/qiime/rep_seqs_99.qza'"
      ]
     },
     "execution_count": 68,
     "metadata": {},
     "output_type": "execute_result"
    }
   ],
   "source": [
    "mt_99.save(os.path.join(datapath, 'qiime', 'mt_99.qza'))\n",
    "rep_seqs_99.save(os.path.join(datapath, 'qiime', 'rep_seqs_99.qza'))\n",
    "taxonomy_99.classification.save(os.path.join(datapath, 'qiime', 'taxonomy_99.qza'))\n"
   ]
  },
  {
   "cell_type": "markdown",
   "metadata": {},
   "source": [
    "### Create a tree"
   ]
  },
  {
   "cell_type": "code",
   "execution_count": 5,
   "metadata": {
    "collapsed": true,
    "jupyter": {
     "outputs_hidden": true
    },
    "tags": []
   },
   "outputs": [
    {
     "name": "stdout",
     "output_type": "stream",
     "text": [
      "Running external command line application. This may print messages to stdout and/or stderr.\n",
      "The command being run is below. This command cannot be manually re-run as it will depend on temporary files that no longer exist.\n",
      "\n",
      "Command: mafft --preservecase --inputorder --thread 1 /var/folders/kk/vx23v0b52wv0sx4vqhls42dw0000gn/T/qiime2-archive-m43u23l5/2ebe578c-cd74-48d5-a84d-dea2bd3b814e/data/dna-sequences.fasta\n",
      "\n"
     ]
    },
    {
     "name": "stderr",
     "output_type": "stream",
     "text": [
      "inputfile = orig\n",
      "2747 x 480 - 241 d\n",
      "nthread = 1\n",
      "nthreadpair = 1\n",
      "nthreadtb = 1\n",
      "ppenalty_ex = 0\n",
      "stacksize: 8192 kb\n",
      "generating a scoring matrix for nucleotide (dist=200) ... done\n",
      "Gap Penalty = -1.53, +0.00, +0.00\n",
      "\n",
      "\n",
      "\n",
      "Making a distance matrix ..\n",
      " 2701 / 2747 (thread    0)\n",
      "done.\n",
      "\n",
      "Constructing a UPGMA tree (efffree=0) ... \n",
      " 2740 / 2747\n",
      "done.\n",
      "\n",
      "Progressive alignment 1/2... \n",
      "STEP  2501 / 2746 (thread    0) h\n",
      "Reallocating..done. *alloclen = 1999\n",
      "STEP  2701 / 2746 (thread    0)\n",
      "Reallocating..done. *alloclen = 3387\n",
      "\n",
      "done.\n",
      "\n",
      "Making a distance matrix from msa.. \n",
      " 2700 / 2747 (thread    0)\n",
      "done.\n",
      "\n",
      "Constructing a UPGMA tree (efffree=1) ... \n",
      " 2740 / 2747\n",
      "done.\n",
      "\n",
      "Progressive alignment 2/2... \n",
      "STEP  2501 / 2746 (thread    0)\n",
      "Reallocating..done. *alloclen = 1982\n",
      "STEP  2701 / 2746 (thread    0)\n",
      "Reallocating..done. *alloclen = 3825\n",
      "\n",
      "done.\n",
      "\n",
      "disttbfast (nuc) Version 7.505\n",
      "alg=A, model=DNA200 (2), 1.53 (4.59), -0.00 (-0.00), noshift, amax=0.0\n",
      "1 thread(s)\n",
      "\n",
      "\n",
      "Strategy:\n",
      " FFT-NS-2 (Fast but rough)\n",
      " Progressive method (guide trees were built 2 times.)\n",
      "\n",
      "If unsure which option to use, try 'mafft --auto input > output'.\n",
      "For more information, see 'mafft --help', 'mafft --man' and the mafft page.\n",
      "\n",
      "The default gap scoring scheme has been changed in version 7.110 (2013 Oct).\n",
      "It tends to insert more gaps into gap-rich regions than previous versions.\n",
      "To disable this change, add the --leavegappyregion option.\n",
      "\n"
     ]
    },
    {
     "name": "stdout",
     "output_type": "stream",
     "text": [
      "Running external command line application. This may print messages to stdout and/or stderr.\n",
      "The command being run is below. This command cannot be manually re-run as it will depend on temporary files that no longer exist.\n",
      "\n",
      "Command: FastTree -quote -nt /var/folders/kk/vx23v0b52wv0sx4vqhls42dw0000gn/T/qiime2-archive-pswn2tf0/505ae797-a596-48ae-818e-49fa5593f2c8/data/aligned-dna-sequences.fasta\n",
      "\n"
     ]
    },
    {
     "name": "stderr",
     "output_type": "stream",
     "text": [
      "FastTree Version 2.1.11 Double precision (No SSE3)\n",
      "Alignment: /var/folders/kk/vx23v0b52wv0sx4vqhls42dw0000gn/T/qiime2-archive-pswn2tf0/505ae797-a596-48ae-818e-49fa5593f2c8/data/aligned-dna-sequences.fasta\n",
      "Nucleotide distances: Jukes-Cantor Joins: balanced Support: SH-like 1000\n",
      "Search: Normal +NNI +SPR (2 rounds range 10) +ML-NNI opt-each=1\n",
      "TopHits: 1.00*sqrtN close=default refresh=0.80\n",
      "ML Model: Jukes-Cantor, CAT approximation with 20 rate categories\n",
      "      0.48 seconds: Top hits for    640 of   2745 seqs (at seed    100)\n",
      "      0.61 seconds: Top hits for   1001 of   2745 seqs (at seed    200)\n",
      "      0.78 seconds: Top hits for   1340 of   2745 seqs (at seed    400)\n",
      "      0.97 seconds: Top hits for   1701 of   2745 seqs (at seed    600)\n",
      "      1.09 seconds: Top hits for   1897 of   2745 seqs (at seed    800)\n",
      "      1.20 seconds: Top hits for   2031 of   2745 seqs (at seed   1000)\n",
      "      1.37 seconds: Top hits for   2233 of   2745 seqs (at seed   1400)\n",
      "      1.49 seconds: Top hits for   2316 of   2745 seqs (at seed   1700)\n",
      "      1.61 seconds: Top hits for   2387 of   2745 seqs (at seed   2000)\n",
      "      1.71 seconds: Top hits for   2462 of   2745 seqs (at seed   2300)\n",
      "      1.85 seconds: Top hits for   2610 of   2745 seqs (at seed   2500)\n",
      "      1.95 seconds: Top hits for   2741 of   2745 seqs (at seed   2700)\n",
      "      2.52 seconds: Joined    100 of   2742\n",
      "      3.02 seconds: Joined    200 of   2742\n",
      "      3.42 seconds: Joined    300 of   2742\n",
      "      3.86 seconds: Joined    400 of   2742\n",
      "      4.13 seconds: Joined    500 of   2742\n",
      "      4.48 seconds: Joined    600 of   2742\n",
      "      4.80 seconds: Joined    700 of   2742\n",
      "      5.14 seconds: Joined    800 of   2742\n",
      "      5.45 seconds: Joined    900 of   2742\n",
      "      5.64 seconds: Joined   1000 of   2742\n",
      "      5.94 seconds: Joined   1100 of   2742\n",
      "      6.28 seconds: Joined   1200 of   2742\n",
      "      6.50 seconds: Joined   1300 of   2742\n",
      "      6.95 seconds: Joined   1400 of   2742\n",
      "      7.18 seconds: Joined   1500 of   2742\n",
      "      7.49 seconds: Joined   1600 of   2742\n",
      "      7.87 seconds: Joined   1700 of   2742\n",
      "      8.17 seconds: Joined   1800 of   2742\n",
      "      8.47 seconds: Joined   1900 of   2742\n",
      "      8.66 seconds: Joined   2000 of   2742\n",
      "      8.92 seconds: Joined   2100 of   2742\n",
      "      9.23 seconds: Joined   2200 of   2742\n",
      "      9.42 seconds: Joined   2300 of   2742\n",
      "      9.65 seconds: Joined   2400 of   2742\n",
      "      9.91 seconds: Joined   2500 of   2742\n",
      "     10.21 seconds: Joined   2600 of   2742\n",
      "     10.41 seconds: Joined   2700 of   2742\n",
      "Initial topology in 10.46 seconds\n",
      "Refining topology: 46 rounds ME-NNIs, 2 rounds ME-SPRs, 23 rounds ML-NNIs\n",
      "     10.51 seconds: ME NNI round 1 of 46, 401 of 2743 splits, 94 changes (max delta 0.033)\n",
      "     10.61 seconds: ME NNI round 1 of 46, 1301 of 2743 splits, 275 changes (max delta 0.449)\n",
      "     10.72 seconds: ME NNI round 1 of 46, 2201 of 2743 splits, 480 changes (max delta 0.449)\n",
      "     10.83 seconds: ME NNI round 2 of 46, 301 of 2743 splits, 37 changes (max delta 0.071)\n",
      "     10.94 seconds: ME NNI round 2 of 46, 1201 of 2743 splits, 143 changes (max delta 0.331)\n",
      "     11.05 seconds: ME NNI round 2 of 46, 2201 of 2743 splits, 270 changes (max delta 0.331)\n",
      "     11.15 seconds: ME NNI round 3 of 46, 401 of 2743 splits, 29 changes (max delta 0.121)\n",
      "     11.26 seconds: ME NNI round 3 of 46, 1401 of 2743 splits, 148 changes (max delta 0.244)\n",
      "     11.37 seconds: ME NNI round 4 of 46, 201 of 2743 splits, 10 changes (max delta 0.057)\n",
      "     11.48 seconds: ME NNI round 4 of 46, 1201 of 2743 splits, 93 changes (max delta 0.057)\n",
      "     11.58 seconds: ME NNI round 5 of 46, 501 of 2743 splits, 53 changes (max delta 0.122)\n",
      "     11.69 seconds: ME NNI round 6 of 46, 401 of 2743 splits, 22 changes (max delta 0.038)\n",
      "     11.80 seconds: ME NNI round 8 of 46, 201 of 2743 splits, 6 changes (max delta 0.018)\n",
      "     12.04 seconds: SPR round   1 of   2, 101 of 5488 nodes\n",
      "     12.20 seconds: SPR round   1 of   2, 201 of 5488 nodes\n",
      "     12.36 seconds: SPR round   1 of   2, 301 of 5488 nodes\n",
      "     12.54 seconds: SPR round   1 of   2, 401 of 5488 nodes\n",
      "     12.74 seconds: SPR round   1 of   2, 501 of 5488 nodes\n",
      "     12.91 seconds: SPR round   1 of   2, 601 of 5488 nodes\n",
      "     13.06 seconds: SPR round   1 of   2, 701 of 5488 nodes\n",
      "     13.23 seconds: SPR round   1 of   2, 801 of 5488 nodes\n",
      "     13.42 seconds: SPR round   1 of   2, 901 of 5488 nodes\n",
      "     13.63 seconds: SPR round   1 of   2, 1001 of 5488 nodes\n",
      "     13.79 seconds: SPR round   1 of   2, 1101 of 5488 nodes\n",
      "     13.99 seconds: SPR round   1 of   2, 1201 of 5488 nodes\n",
      "     14.23 seconds: SPR round   1 of   2, 1301 of 5488 nodes\n",
      "     14.41 seconds: SPR round   1 of   2, 1401 of 5488 nodes\n",
      "     14.59 seconds: SPR round   1 of   2, 1501 of 5488 nodes\n",
      "     14.77 seconds: SPR round   1 of   2, 1601 of 5488 nodes\n",
      "     14.95 seconds: SPR round   1 of   2, 1701 of 5488 nodes\n",
      "     15.13 seconds: SPR round   1 of   2, 1801 of 5488 nodes\n",
      "     15.28 seconds: SPR round   1 of   2, 1901 of 5488 nodes\n",
      "     15.47 seconds: SPR round   1 of   2, 2001 of 5488 nodes\n",
      "     15.65 seconds: SPR round   1 of   2, 2101 of 5488 nodes\n",
      "     15.81 seconds: SPR round   1 of   2, 2201 of 5488 nodes\n",
      "     15.99 seconds: SPR round   1 of   2, 2301 of 5488 nodes\n",
      "     16.16 seconds: SPR round   1 of   2, 2401 of 5488 nodes\n",
      "     16.37 seconds: SPR round   1 of   2, 2501 of 5488 nodes\n",
      "     16.53 seconds: SPR round   1 of   2, 2601 of 5488 nodes\n",
      "     16.73 seconds: SPR round   1 of   2, 2701 of 5488 nodes\n",
      "     16.90 seconds: SPR round   1 of   2, 2801 of 5488 nodes\n",
      "     17.15 seconds: SPR round   1 of   2, 2901 of 5488 nodes\n",
      "     17.32 seconds: SPR round   1 of   2, 3001 of 5488 nodes\n",
      "     17.52 seconds: SPR round   1 of   2, 3101 of 5488 nodes\n",
      "     17.72 seconds: SPR round   1 of   2, 3201 of 5488 nodes\n",
      "     17.91 seconds: SPR round   1 of   2, 3301 of 5488 nodes\n",
      "     18.08 seconds: SPR round   1 of   2, 3401 of 5488 nodes\n",
      "     18.27 seconds: SPR round   1 of   2, 3501 of 5488 nodes\n",
      "     18.43 seconds: SPR round   1 of   2, 3601 of 5488 nodes\n",
      "     18.63 seconds: SPR round   1 of   2, 3701 of 5488 nodes\n",
      "     18.82 seconds: SPR round   1 of   2, 3801 of 5488 nodes\n",
      "     19.01 seconds: SPR round   1 of   2, 3901 of 5488 nodes\n",
      "     19.18 seconds: SPR round   1 of   2, 4001 of 5488 nodes\n",
      "     19.37 seconds: SPR round   1 of   2, 4101 of 5488 nodes\n",
      "     19.52 seconds: SPR round   1 of   2, 4201 of 5488 nodes\n",
      "     19.71 seconds: SPR round   1 of   2, 4301 of 5488 nodes\n",
      "     19.86 seconds: SPR round   1 of   2, 4401 of 5488 nodes\n",
      "     20.02 seconds: SPR round   1 of   2, 4501 of 5488 nodes\n",
      "     20.17 seconds: SPR round   1 of   2, 4601 of 5488 nodes\n",
      "     20.42 seconds: SPR round   1 of   2, 4701 of 5488 nodes\n",
      "     20.59 seconds: SPR round   1 of   2, 4801 of 5488 nodes\n",
      "     20.77 seconds: SPR round   1 of   2, 4901 of 5488 nodes\n",
      "     20.92 seconds: SPR round   1 of   2, 5001 of 5488 nodes\n",
      "     21.14 seconds: SPR round   1 of   2, 5101 of 5488 nodes\n",
      "     21.31 seconds: SPR round   1 of   2, 5201 of 5488 nodes\n",
      "     21.48 seconds: SPR round   1 of   2, 5301 of 5488 nodes\n",
      "     21.65 seconds: SPR round   1 of   2, 5401 of 5488 nodes\n",
      "     21.87 seconds: ME NNI round 16 of 46, 1 of 2743 splits\n",
      "     21.98 seconds: ME NNI round 16 of 46, 1001 of 2743 splits, 22 changes (max delta 0.054)\n",
      "     22.08 seconds: ME NNI round 16 of 46, 2001 of 2743 splits, 36 changes (max delta 0.054)\n",
      "     22.18 seconds: ME NNI round 17 of 46, 201 of 2743 splits, 2 changes (max delta 0.058)\n",
      "     22.29 seconds: ME NNI round 17 of 46, 1201 of 2743 splits, 8 changes (max delta 0.058)\n",
      "     22.39 seconds: ME NNI round 17 of 46, 2101 of 2743 splits, 18 changes (max delta 0.058)\n",
      "     22.49 seconds: ME NNI round 18 of 46, 301 of 2743 splits, 9 changes (max delta 0.035)\n",
      "     22.59 seconds: ME NNI round 28 of 46, 1 of 2743 splits\n",
      "     22.77 seconds: SPR round   2 of   2, 101 of 5488 nodes\n",
      "     22.96 seconds: SPR round   2 of   2, 201 of 5488 nodes\n",
      "     23.16 seconds: SPR round   2 of   2, 301 of 5488 nodes\n",
      "     23.29 seconds: SPR round   2 of   2, 401 of 5488 nodes\n",
      "     23.47 seconds: SPR round   2 of   2, 501 of 5488 nodes\n",
      "     23.65 seconds: SPR round   2 of   2, 601 of 5488 nodes\n",
      "     23.86 seconds: SPR round   2 of   2, 701 of 5488 nodes\n",
      "     24.02 seconds: SPR round   2 of   2, 801 of 5488 nodes\n",
      "     24.21 seconds: SPR round   2 of   2, 901 of 5488 nodes\n",
      "     24.42 seconds: SPR round   2 of   2, 1001 of 5488 nodes\n",
      "     24.58 seconds: SPR round   2 of   2, 1101 of 5488 nodes\n",
      "     24.76 seconds: SPR round   2 of   2, 1201 of 5488 nodes\n",
      "     24.94 seconds: SPR round   2 of   2, 1301 of 5488 nodes\n",
      "     25.12 seconds: SPR round   2 of   2, 1401 of 5488 nodes\n",
      "     25.30 seconds: SPR round   2 of   2, 1501 of 5488 nodes\n",
      "     25.46 seconds: SPR round   2 of   2, 1601 of 5488 nodes\n",
      "     25.61 seconds: SPR round   2 of   2, 1701 of 5488 nodes\n",
      "     25.79 seconds: SPR round   2 of   2, 1801 of 5488 nodes\n",
      "     25.98 seconds: SPR round   2 of   2, 1901 of 5488 nodes\n",
      "     26.15 seconds: SPR round   2 of   2, 2001 of 5488 nodes\n",
      "     26.31 seconds: SPR round   2 of   2, 2101 of 5488 nodes\n",
      "     26.47 seconds: SPR round   2 of   2, 2201 of 5488 nodes\n",
      "     26.66 seconds: SPR round   2 of   2, 2301 of 5488 nodes\n",
      "     26.85 seconds: SPR round   2 of   2, 2401 of 5488 nodes\n",
      "     27.02 seconds: SPR round   2 of   2, 2501 of 5488 nodes\n",
      "     27.22 seconds: SPR round   2 of   2, 2601 of 5488 nodes\n",
      "     27.39 seconds: SPR round   2 of   2, 2701 of 5488 nodes\n",
      "     27.60 seconds: SPR round   2 of   2, 2801 of 5488 nodes\n",
      "     27.77 seconds: SPR round   2 of   2, 2901 of 5488 nodes\n",
      "     27.96 seconds: SPR round   2 of   2, 3001 of 5488 nodes\n",
      "     28.14 seconds: SPR round   2 of   2, 3101 of 5488 nodes\n",
      "     28.32 seconds: SPR round   2 of   2, 3201 of 5488 nodes\n",
      "     28.50 seconds: SPR round   2 of   2, 3301 of 5488 nodes\n",
      "     28.68 seconds: SPR round   2 of   2, 3401 of 5488 nodes\n",
      "     28.86 seconds: SPR round   2 of   2, 3501 of 5488 nodes\n",
      "     29.06 seconds: SPR round   2 of   2, 3601 of 5488 nodes\n",
      "     29.22 seconds: SPR round   2 of   2, 3701 of 5488 nodes\n",
      "     29.40 seconds: SPR round   2 of   2, 3801 of 5488 nodes\n",
      "     29.56 seconds: SPR round   2 of   2, 3901 of 5488 nodes\n",
      "     29.74 seconds: SPR round   2 of   2, 4001 of 5488 nodes\n",
      "     29.91 seconds: SPR round   2 of   2, 4101 of 5488 nodes\n",
      "     30.08 seconds: SPR round   2 of   2, 4201 of 5488 nodes\n",
      "     30.25 seconds: SPR round   2 of   2, 4301 of 5488 nodes\n",
      "     30.46 seconds: SPR round   2 of   2, 4401 of 5488 nodes\n",
      "     30.64 seconds: SPR round   2 of   2, 4501 of 5488 nodes\n",
      "     30.83 seconds: SPR round   2 of   2, 4601 of 5488 nodes\n",
      "     30.99 seconds: SPR round   2 of   2, 4701 of 5488 nodes\n",
      "     31.18 seconds: SPR round   2 of   2, 4801 of 5488 nodes\n",
      "     31.32 seconds: SPR round   2 of   2, 4901 of 5488 nodes\n",
      "     31.50 seconds: SPR round   2 of   2, 5001 of 5488 nodes\n",
      "     31.67 seconds: SPR round   2 of   2, 5101 of 5488 nodes\n",
      "     31.89 seconds: SPR round   2 of   2, 5201 of 5488 nodes\n",
      "     32.08 seconds: SPR round   2 of   2, 5301 of 5488 nodes\n",
      "     32.25 seconds: SPR round   2 of   2, 5401 of 5488 nodes\n",
      "     32.42 seconds: ME NNI round 31 of 46, 1 of 2743 splits\n",
      "     32.53 seconds: ME NNI round 31 of 46, 1001 of 2743 splits, 3 changes (max delta 0.014)\n",
      "     32.63 seconds: ME NNI round 31 of 46, 2001 of 2743 splits, 4 changes (max delta 0.014)\n",
      "     32.74 seconds: ME NNI round 32 of 46, 201 of 2743 splits, 0 changes\n",
      "     32.85 seconds: ME NNI round 32 of 46, 901 of 2743 splits, 4 changes (max delta 0.017)\n",
      "     32.95 seconds: ME NNI round 32 of 46, 1801 of 2743 splits, 4 changes (max delta 0.017)\n",
      "     33.05 seconds: ME NNI round 32 of 46, 2701 of 2743 splits, 5 changes (max delta 0.017)\n",
      "Total branch-length 147.927 after 33.45 sec\n",
      "     33.50 seconds: ML Lengths 1 of 2743 splits\n",
      "     33.62 seconds: ML Lengths 101 of 2743 splits\n",
      "     33.74 seconds: ML Lengths 201 of 2743 splits\n",
      "     33.86 seconds: ML Lengths 301 of 2743 splits\n",
      "     33.97 seconds: ML Lengths 401 of 2743 splits\n",
      "     34.09 seconds: ML Lengths 501 of 2743 splits\n",
      "     34.22 seconds: ML Lengths 601 of 2743 splits\n",
      "     34.34 seconds: ML Lengths 701 of 2743 splits\n",
      "     34.47 seconds: ML Lengths 801 of 2743 splits\n",
      "     34.59 seconds: ML Lengths 901 of 2743 splits\n",
      "     34.71 seconds: ML Lengths 1001 of 2743 splits\n",
      "     34.83 seconds: ML Lengths 1101 of 2743 splits\n",
      "     34.95 seconds: ML Lengths 1201 of 2743 splits\n",
      "     35.08 seconds: ML Lengths 1301 of 2743 splits\n",
      "     35.20 seconds: ML Lengths 1401 of 2743 splits\n",
      "     35.33 seconds: ML Lengths 1501 of 2743 splits\n",
      "     35.46 seconds: ML Lengths 1601 of 2743 splits\n",
      "     35.58 seconds: ML Lengths 1701 of 2743 splits\n",
      "     35.70 seconds: ML Lengths 1801 of 2743 splits\n",
      "     35.83 seconds: ML Lengths 1901 of 2743 splits\n",
      "     35.98 seconds: ML Lengths 2001 of 2743 splits\n",
      "     36.11 seconds: ML Lengths 2101 of 2743 splits\n",
      "     36.23 seconds: ML Lengths 2201 of 2743 splits\n",
      "     36.36 seconds: ML Lengths 2301 of 2743 splits\n",
      "     36.49 seconds: ML Lengths 2401 of 2743 splits\n",
      "     36.62 seconds: ML Lengths 2501 of 2743 splits\n",
      "     36.75 seconds: ML Lengths 2601 of 2743 splits\n",
      "     36.87 seconds: ML Lengths 2701 of 2743 splits\n",
      "     37.37 seconds: ML NNI round 1 of 23, 101 of 2743 splits, 13 changes (max delta 4.579)\n",
      "     37.84 seconds: ML NNI round 1 of 23, 201 of 2743 splits, 30 changes (max delta 4.579)\n",
      "     38.30 seconds: ML NNI round 1 of 23, 301 of 2743 splits, 47 changes (max delta 7.042)\n",
      "     38.79 seconds: ML NNI round 1 of 23, 401 of 2743 splits, 65 changes (max delta 16.928)\n",
      "     39.31 seconds: ML NNI round 1 of 23, 501 of 2743 splits, 80 changes (max delta 16.928)\n",
      "     39.79 seconds: ML NNI round 1 of 23, 601 of 2743 splits, 108 changes (max delta 16.928)\n",
      "     40.24 seconds: ML NNI round 1 of 23, 701 of 2743 splits, 121 changes (max delta 16.928)\n",
      "     40.72 seconds: ML NNI round 1 of 23, 801 of 2743 splits, 145 changes (max delta 16.928)\n",
      "     41.16 seconds: ML NNI round 1 of 23, 901 of 2743 splits, 157 changes (max delta 16.928)\n",
      "     41.61 seconds: ML NNI round 1 of 23, 1001 of 2743 splits, 172 changes (max delta 16.928)\n",
      "     42.07 seconds: ML NNI round 1 of 23, 1101 of 2743 splits, 189 changes (max delta 16.928)\n",
      "     42.53 seconds: ML NNI round 1 of 23, 1201 of 2743 splits, 209 changes (max delta 16.928)\n",
      "     42.99 seconds: ML NNI round 1 of 23, 1301 of 2743 splits, 238 changes (max delta 16.928)\n",
      "     43.44 seconds: ML NNI round 1 of 23, 1401 of 2743 splits, 254 changes (max delta 16.928)\n",
      "     43.92 seconds: ML NNI round 1 of 23, 1501 of 2743 splits, 277 changes (max delta 16.928)\n",
      "     44.38 seconds: ML NNI round 1 of 23, 1601 of 2743 splits, 295 changes (max delta 16.928)\n",
      "     44.84 seconds: ML NNI round 1 of 23, 1701 of 2743 splits, 315 changes (max delta 16.928)\n",
      "     45.27 seconds: ML NNI round 1 of 23, 1801 of 2743 splits, 331 changes (max delta 16.928)\n",
      "     45.74 seconds: ML NNI round 1 of 23, 1901 of 2743 splits, 348 changes (max delta 16.928)\n",
      "     46.17 seconds: ML NNI round 1 of 23, 2001 of 2743 splits, 366 changes (max delta 16.928)\n",
      "     46.61 seconds: ML NNI round 1 of 23, 2101 of 2743 splits, 388 changes (max delta 16.928)\n",
      "     47.06 seconds: ML NNI round 1 of 23, 2201 of 2743 splits, 403 changes (max delta 16.928)\n",
      "     47.50 seconds: ML NNI round 1 of 23, 2301 of 2743 splits, 423 changes (max delta 16.928)\n",
      "     47.96 seconds: ML NNI round 1 of 23, 2401 of 2743 splits, 444 changes (max delta 16.928)\n",
      "     48.38 seconds: ML NNI round 1 of 23, 2501 of 2743 splits, 466 changes (max delta 16.928)\n",
      "     48.84 seconds: ML NNI round 1 of 23, 2601 of 2743 splits, 500 changes (max delta 16.928)\n",
      "     49.30 seconds: ML NNI round 1 of 23, 2701 of 2743 splits, 517 changes (max delta 16.928)\n",
      "ML-NNI round 1: LogLk = -239733.201 NNIs 525 max delta 16.93 Time 49.57\n",
      "     49.70 seconds: Site likelihoods with rate category 1 of 20\n",
      "     49.85 seconds: Site likelihoods with rate category 2 of 20\n",
      "     49.99 seconds: Site likelihoods with rate category 3 of 20\n",
      "     50.13 seconds: Site likelihoods with rate category 4 of 20\n",
      "     50.27 seconds: Site likelihoods with rate category 5 of 20\n",
      "     50.43 seconds: Site likelihoods with rate category 6 of 20\n",
      "     50.56 seconds: Site likelihoods with rate category 7 of 20\n",
      "     50.76 seconds: Site likelihoods with rate category 8 of 20\n",
      "     50.89 seconds: Site likelihoods with rate category 9 of 20\n",
      "     51.03 seconds: Site likelihoods with rate category 10 of 20\n",
      "     51.17 seconds: Site likelihoods with rate category 11 of 20\n",
      "     51.30 seconds: Site likelihoods with rate category 12 of 20\n",
      "     51.44 seconds: Site likelihoods with rate category 13 of 20\n",
      "     51.58 seconds: Site likelihoods with rate category 14 of 20\n",
      "     51.72 seconds: Site likelihoods with rate category 15 of 20\n",
      "     51.86 seconds: Site likelihoods with rate category 16 of 20\n",
      "     52.00 seconds: Site likelihoods with rate category 17 of 20\n",
      "     52.14 seconds: Site likelihoods with rate category 18 of 20\n",
      "     52.28 seconds: Site likelihoods with rate category 19 of 20\n",
      "     52.42 seconds: Site likelihoods with rate category 20 of 20\n",
      "Switched to using 20 rate categories (CAT approximation)\n",
      "Rate categories were divided by 0.933 so that average rate = 1.0\n",
      "CAT-based log-likelihoods may not be comparable across runs\n",
      "Use -gamma for approximate but comparable Gamma(20) log-likelihoods\n",
      "     52.55 seconds: ML NNI round 2 of 23, 1 of 2743 splits\n",
      "     52.89 seconds: ML NNI round 2 of 23, 101 of 2743 splits, 10 changes (max delta 2.281)\n",
      "     53.18 seconds: ML NNI round 2 of 23, 201 of 2743 splits, 19 changes (max delta 3.071)\n",
      "     53.46 seconds: ML NNI round 2 of 23, 301 of 2743 splits, 22 changes (max delta 3.071)\n",
      "     53.78 seconds: ML NNI round 2 of 23, 401 of 2743 splits, 35 changes (max delta 11.222)\n",
      "     54.10 seconds: ML NNI round 2 of 23, 501 of 2743 splits, 47 changes (max delta 11.222)\n",
      "     54.46 seconds: ML NNI round 2 of 23, 601 of 2743 splits, 61 changes (max delta 11.222)\n",
      "     54.84 seconds: ML NNI round 2 of 23, 701 of 2743 splits, 70 changes (max delta 11.222)\n",
      "     55.15 seconds: ML NNI round 2 of 23, 801 of 2743 splits, 82 changes (max delta 11.222)\n",
      "     55.47 seconds: ML NNI round 2 of 23, 901 of 2743 splits, 91 changes (max delta 11.222)\n",
      "     55.79 seconds: ML NNI round 2 of 23, 1001 of 2743 splits, 101 changes (max delta 11.222)\n",
      "     56.08 seconds: ML NNI round 2 of 23, 1101 of 2743 splits, 110 changes (max delta 11.222)\n",
      "     56.37 seconds: ML NNI round 2 of 23, 1201 of 2743 splits, 117 changes (max delta 11.222)\n",
      "     56.65 seconds: ML NNI round 2 of 23, 1301 of 2743 splits, 126 changes (max delta 11.222)\n",
      "     56.96 seconds: ML NNI round 2 of 23, 1401 of 2743 splits, 139 changes (max delta 11.222)\n",
      "     57.25 seconds: ML NNI round 2 of 23, 1501 of 2743 splits, 152 changes (max delta 11.222)\n",
      "     57.55 seconds: ML NNI round 2 of 23, 1601 of 2743 splits, 166 changes (max delta 19.479)\n",
      "     57.87 seconds: ML NNI round 2 of 23, 1701 of 2743 splits, 174 changes (max delta 19.479)\n",
      "     58.22 seconds: ML NNI round 2 of 23, 1801 of 2743 splits, 185 changes (max delta 19.479)\n",
      "     58.51 seconds: ML NNI round 2 of 23, 1901 of 2743 splits, 197 changes (max delta 19.479)\n",
      "     58.78 seconds: ML NNI round 2 of 23, 2001 of 2743 splits, 204 changes (max delta 19.479)\n",
      "     59.09 seconds: ML NNI round 2 of 23, 2101 of 2743 splits, 211 changes (max delta 19.479)\n",
      "     59.41 seconds: ML NNI round 2 of 23, 2201 of 2743 splits, 223 changes (max delta 19.479)\n",
      "     59.74 seconds: ML NNI round 2 of 23, 2301 of 2743 splits, 229 changes (max delta 19.479)\n",
      "     60.03 seconds: ML NNI round 2 of 23, 2401 of 2743 splits, 240 changes (max delta 19.479)\n",
      "     60.34 seconds: ML NNI round 2 of 23, 2501 of 2743 splits, 251 changes (max delta 19.479)\n",
      "     60.68 seconds: ML NNI round 2 of 23, 2601 of 2743 splits, 263 changes (max delta 19.479)\n",
      "     61.00 seconds: ML NNI round 2 of 23, 2701 of 2743 splits, 272 changes (max delta 19.479)\n",
      "ML-NNI round 2: LogLk = -215520.611 NNIs 275 max delta 19.48 Time 61.21\n",
      "     61.21 seconds: ML NNI round 3 of 23, 1 of 2743 splits\n",
      "     61.54 seconds: ML NNI round 3 of 23, 101 of 2743 splits, 6 changes (max delta 4.038)\n",
      "     61.80 seconds: ML NNI round 3 of 23, 201 of 2743 splits, 12 changes (max delta 6.304)\n",
      "     62.09 seconds: ML NNI round 3 of 23, 301 of 2743 splits, 18 changes (max delta 6.304)\n",
      "     62.38 seconds: ML NNI round 3 of 23, 401 of 2743 splits, 26 changes (max delta 9.091)\n",
      "     62.65 seconds: ML NNI round 3 of 23, 501 of 2743 splits, 30 changes (max delta 9.091)\n",
      "     62.96 seconds: ML NNI round 3 of 23, 601 of 2743 splits, 36 changes (max delta 9.091)\n",
      "     63.23 seconds: ML NNI round 3 of 23, 701 of 2743 splits, 41 changes (max delta 9.091)\n",
      "     63.54 seconds: ML NNI round 3 of 23, 801 of 2743 splits, 49 changes (max delta 9.091)\n",
      "     63.84 seconds: ML NNI round 3 of 23, 901 of 2743 splits, 56 changes (max delta 9.091)\n",
      "     64.12 seconds: ML NNI round 3 of 23, 1001 of 2743 splits, 64 changes (max delta 9.091)\n",
      "     64.46 seconds: ML NNI round 3 of 23, 1101 of 2743 splits, 69 changes (max delta 9.091)\n",
      "     64.72 seconds: ML NNI round 3 of 23, 1201 of 2743 splits, 74 changes (max delta 9.091)\n",
      "     65.07 seconds: ML NNI round 3 of 23, 1301 of 2743 splits, 82 changes (max delta 9.091)\n",
      "     65.40 seconds: ML NNI round 3 of 23, 1401 of 2743 splits, 88 changes (max delta 9.091)\n",
      "     65.76 seconds: ML NNI round 3 of 23, 1501 of 2743 splits, 100 changes (max delta 9.091)\n",
      "     66.05 seconds: ML NNI round 3 of 23, 1601 of 2743 splits, 110 changes (max delta 9.091)\n",
      "     66.32 seconds: ML NNI round 3 of 23, 1701 of 2743 splits, 116 changes (max delta 9.091)\n",
      "     66.62 seconds: ML NNI round 3 of 23, 1801 of 2743 splits, 125 changes (max delta 9.091)\n",
      "     66.91 seconds: ML NNI round 3 of 23, 1901 of 2743 splits, 132 changes (max delta 9.091)\n",
      "ML-NNI round 3: LogLk = -215259.404 NNIs 143 max delta 9.09 Time 67.16\n",
      "     67.16 seconds: ML NNI round 4 of 23, 1 of 2743 splits\n",
      "     67.41 seconds: ML NNI round 4 of 23, 101 of 2743 splits, 2 changes (max delta 0.354)\n",
      "     67.64 seconds: ML NNI round 4 of 23, 201 of 2743 splits, 6 changes (max delta 4.897)\n",
      "     67.94 seconds: ML NNI round 4 of 23, 301 of 2743 splits, 11 changes (max delta 4.897)\n",
      "     68.21 seconds: ML NNI round 4 of 23, 401 of 2743 splits, 13 changes (max delta 4.897)\n",
      "     68.53 seconds: ML NNI round 4 of 23, 501 of 2743 splits, 20 changes (max delta 8.324)\n",
      "     68.83 seconds: ML NNI round 4 of 23, 601 of 2743 splits, 23 changes (max delta 8.324)\n",
      "     69.13 seconds: ML NNI round 4 of 23, 701 of 2743 splits, 28 changes (max delta 8.324)\n",
      "     69.40 seconds: ML NNI round 4 of 23, 801 of 2743 splits, 32 changes (max delta 8.324)\n",
      "     69.65 seconds: ML NNI round 4 of 23, 901 of 2743 splits, 35 changes (max delta 8.324)\n",
      "     69.97 seconds: ML NNI round 4 of 23, 1001 of 2743 splits, 45 changes (max delta 8.324)\n",
      "     70.26 seconds: ML NNI round 4 of 23, 1101 of 2743 splits, 47 changes (max delta 8.324)\n",
      "     70.50 seconds: ML NNI round 4 of 23, 1201 of 2743 splits, 48 changes (max delta 8.324)\n",
      "ML-NNI round 4: LogLk = -215144.632 NNIs 54 max delta 8.32 Time 70.76\n",
      "     70.75 seconds: ML NNI round 5 of 23, 1 of 2743 splits\n",
      "     71.03 seconds: ML NNI round 5 of 23, 101 of 2743 splits, 2 changes (max delta 0.000)\n",
      "     71.26 seconds: ML NNI round 5 of 23, 201 of 2743 splits, 4 changes (max delta 1.347)\n",
      "     71.59 seconds: ML NNI round 5 of 23, 301 of 2743 splits, 10 changes (max delta 1.347)\n",
      "     71.87 seconds: ML NNI round 5 of 23, 401 of 2743 splits, 14 changes (max delta 1.347)\n",
      "     72.13 seconds: ML NNI round 5 of 23, 501 of 2743 splits, 19 changes (max delta 3.228)\n",
      "     72.46 seconds: ML NNI round 5 of 23, 601 of 2743 splits, 29 changes (max delta 9.555)\n",
      "     72.68 seconds: ML NNI round 5 of 23, 701 of 2743 splits, 32 changes (max delta 9.555)\n",
      "ML-NNI round 5: LogLk = -215082.204 NNIs 34 max delta 9.56 Time 72.82\n",
      "     72.81 seconds: ML NNI round 6 of 23, 1 of 2743 splits\n",
      "     73.07 seconds: ML NNI round 6 of 23, 101 of 2743 splits, 1 changes (max delta 2.740)\n",
      "     73.36 seconds: ML NNI round 6 of 23, 201 of 2743 splits, 4 changes (max delta 2.740)\n",
      "     73.64 seconds: ML NNI round 6 of 23, 301 of 2743 splits, 14 changes (max delta 3.641)\n",
      "ML-NNI round 6: LogLk = -215055.198 NNIs 19 max delta 5.37 Time 74.00\n",
      "     74.00 seconds: ML NNI round 7 of 23, 1 of 2743 splits\n",
      "     74.32 seconds: ML NNI round 7 of 23, 101 of 2743 splits, 3 changes (max delta 0.868)\n",
      "     74.63 seconds: ML NNI round 7 of 23, 201 of 2743 splits, 11 changes (max delta 6.639)\n",
      "ML-NNI round 7: LogLk = -215040.601 NNIs 15 max delta 6.64 Time 74.83\n",
      "     74.82 seconds: ML NNI round 8 of 23, 1 of 2743 splits\n",
      "     75.18 seconds: ML NNI round 8 of 23, 101 of 2743 splits, 2 changes (max delta 1.115)\n",
      "ML-NNI round 8: LogLk = -215039.046 NNIs 3 max delta 1.11 Time 75.40\n",
      "     75.39 seconds: ML NNI round 9 of 23, 1 of 2743 splits\n",
      "ML-NNI round 9: LogLk = -215039.038 NNIs 0 max delta 0.00 Time 75.77\n",
      "Turning off heuristics for final round of ML NNIs (converged)\n",
      "     75.76 seconds: ML NNI round 10 of 23, 1 of 2743 splits\n",
      "     76.22 seconds: ML NNI round 10 of 23, 101 of 2743 splits, 0 changes\n",
      "     76.92 seconds: ML NNI round 10 of 23, 201 of 2743 splits, 0 changes\n",
      "     77.51 seconds: ML NNI round 10 of 23, 301 of 2743 splits, 4 changes (max delta 0.269)\n",
      "     77.99 seconds: ML NNI round 10 of 23, 401 of 2743 splits, 7 changes (max delta 2.008)\n",
      "     78.44 seconds: ML NNI round 10 of 23, 501 of 2743 splits, 10 changes (max delta 2.008)\n",
      "     78.90 seconds: ML NNI round 10 of 23, 601 of 2743 splits, 10 changes (max delta 2.008)\n",
      "     79.34 seconds: ML NNI round 10 of 23, 701 of 2743 splits, 10 changes (max delta 2.008)\n",
      "     79.82 seconds: ML NNI round 10 of 23, 801 of 2743 splits, 10 changes (max delta 2.008)\n",
      "     80.33 seconds: ML NNI round 10 of 23, 901 of 2743 splits, 11 changes (max delta 2.008)\n",
      "     80.86 seconds: ML NNI round 10 of 23, 1001 of 2743 splits, 12 changes (max delta 2.008)\n",
      "     81.39 seconds: ML NNI round 10 of 23, 1101 of 2743 splits, 14 changes (max delta 2.008)\n",
      "     81.89 seconds: ML NNI round 10 of 23, 1201 of 2743 splits, 16 changes (max delta 2.008)\n",
      "     82.46 seconds: ML NNI round 10 of 23, 1301 of 2743 splits, 16 changes (max delta 2.008)\n",
      "     82.95 seconds: ML NNI round 10 of 23, 1401 of 2743 splits, 17 changes (max delta 2.008)\n",
      "     83.42 seconds: ML NNI round 10 of 23, 1501 of 2743 splits, 17 changes (max delta 2.008)\n",
      "     83.88 seconds: ML NNI round 10 of 23, 1601 of 2743 splits, 19 changes (max delta 2.008)\n",
      "     84.36 seconds: ML NNI round 10 of 23, 1701 of 2743 splits, 20 changes (max delta 2.008)\n",
      "     84.79 seconds: ML NNI round 10 of 23, 1801 of 2743 splits, 20 changes (max delta 2.008)\n",
      "     85.26 seconds: ML NNI round 10 of 23, 1901 of 2743 splits, 21 changes (max delta 2.008)\n",
      "     85.72 seconds: ML NNI round 10 of 23, 2001 of 2743 splits, 22 changes (max delta 2.008)\n",
      "     86.16 seconds: ML NNI round 10 of 23, 2101 of 2743 splits, 22 changes (max delta 2.008)\n",
      "     86.64 seconds: ML NNI round 10 of 23, 2201 of 2743 splits, 24 changes (max delta 2.008)\n",
      "     87.10 seconds: ML NNI round 10 of 23, 2301 of 2743 splits, 24 changes (max delta 2.008)\n",
      "     87.52 seconds: ML NNI round 10 of 23, 2401 of 2743 splits, 28 changes (max delta 2.008)\n",
      "     87.94 seconds: ML NNI round 10 of 23, 2501 of 2743 splits, 30 changes (max delta 2.008)\n",
      "     88.36 seconds: ML NNI round 10 of 23, 2601 of 2743 splits, 32 changes (max delta 2.008)\n",
      "     88.83 seconds: ML NNI round 10 of 23, 2701 of 2743 splits, 37 changes (max delta 2.450)\n",
      "ML-NNI round 10: LogLk = -214863.619 NNIs 37 max delta 2.45 Time 89.11 (final)\n",
      "     89.10 seconds: ML Lengths 1 of 2743 splits\n",
      "     89.21 seconds: ML Lengths 101 of 2743 splits\n",
      "     89.40 seconds: ML Lengths 301 of 2743 splits\n",
      "     89.51 seconds: ML Lengths 401 of 2743 splits\n",
      "     89.70 seconds: ML Lengths 601 of 2743 splits\n",
      "     89.89 seconds: ML Lengths 801 of 2743 splits\n",
      "     89.99 seconds: ML Lengths 901 of 2743 splits\n",
      "     90.09 seconds: ML Lengths 1001 of 2743 splits\n",
      "     90.29 seconds: ML Lengths 1201 of 2743 splits\n",
      "     90.39 seconds: ML Lengths 1301 of 2743 splits\n",
      "     90.59 seconds: ML Lengths 1501 of 2743 splits\n",
      "     90.78 seconds: ML Lengths 1701 of 2743 splits\n",
      "     90.88 seconds: ML Lengths 1801 of 2743 splits\n",
      "     90.99 seconds: ML Lengths 1901 of 2743 splits\n",
      "     91.10 seconds: ML Lengths 2001 of 2743 splits\n",
      "     91.23 seconds: ML Lengths 2101 of 2743 splits\n",
      "     91.42 seconds: ML Lengths 2301 of 2743 splits\n",
      "     91.61 seconds: ML Lengths 2501 of 2743 splits\n",
      "     91.81 seconds: ML Lengths 2701 of 2743 splits\n",
      "Optimize all lengths: LogLk = -214853.279 Time 91.92\n",
      "     92.55 seconds: ML split tests for    100 of   2742 internal splits\n",
      "     93.17 seconds: ML split tests for    200 of   2742 internal splits\n",
      "     93.79 seconds: ML split tests for    300 of   2742 internal splits\n",
      "     94.40 seconds: ML split tests for    400 of   2742 internal splits\n",
      "     95.00 seconds: ML split tests for    500 of   2742 internal splits\n",
      "     95.62 seconds: ML split tests for    600 of   2742 internal splits\n",
      "     96.22 seconds: ML split tests for    700 of   2742 internal splits\n",
      "     96.85 seconds: ML split tests for    800 of   2742 internal splits\n",
      "     97.46 seconds: ML split tests for    900 of   2742 internal splits\n",
      "     98.05 seconds: ML split tests for   1000 of   2742 internal splits\n",
      "     98.67 seconds: ML split tests for   1100 of   2742 internal splits\n",
      "     99.26 seconds: ML split tests for   1200 of   2742 internal splits\n",
      "     99.87 seconds: ML split tests for   1300 of   2742 internal splits\n",
      "    100.49 seconds: ML split tests for   1400 of   2742 internal splits\n",
      "    101.09 seconds: ML split tests for   1500 of   2742 internal splits\n",
      "    101.72 seconds: ML split tests for   1600 of   2742 internal splits\n",
      "    102.33 seconds: ML split tests for   1700 of   2742 internal splits\n",
      "    102.94 seconds: ML split tests for   1800 of   2742 internal splits\n",
      "    103.55 seconds: ML split tests for   1900 of   2742 internal splits\n",
      "    104.16 seconds: ML split tests for   2000 of   2742 internal splits\n",
      "    104.78 seconds: ML split tests for   2100 of   2742 internal splits\n",
      "    105.39 seconds: ML split tests for   2200 of   2742 internal splits\n",
      "    106.00 seconds: ML split tests for   2300 of   2742 internal splits\n",
      "    106.61 seconds: ML split tests for   2400 of   2742 internal splits\n",
      "    107.21 seconds: ML split tests for   2500 of   2742 internal splits\n",
      "    107.81 seconds: ML split tests for   2600 of   2742 internal splits\n",
      "    108.42 seconds: ML split tests for   2700 of   2742 internal splits\n",
      "Total time: 108.68 seconds Unique: 2745/2747 Bad splits: 8/2742 Worst delta-LogLk 3.229\n"
     ]
    }
   ],
   "source": [
    "mafft_alignment = alignment.methods.mafft(rep_seqs_99)\n",
    "masked_mafft_alignment = alignment.methods.mask(mafft_alignment.alignment)\n",
    "unrooted_tree = phylogeny.methods.fasttree(masked_mafft_alignment.masked_alignment)\n",
    "rooted_tree_99 = phylogeny.methods.midpoint_root(unrooted_tree.tree)\n",
    "rooted_tree_99.rooted_tree.save(os.path.join(datapath, 'qiime/rooted_tree_99.qza'))\n",
    "#rooted_tree_99 = Artifact.load(os.path.join(datapath, 'qiime/rooted_tree_99.qza'))\n"
   ]
  },
  {
   "cell_type": "markdown",
   "metadata": {},
   "source": [
    "## Create a rarefied table "
   ]
  },
  {
   "cell_type": "code",
   "execution_count": 46,
   "metadata": {},
   "outputs": [],
   "source": [
    "mt_99 = Artifact.load(os.path.join(datapath, 'qiime', 'mt_99.qza'))\n",
    "rooted_tree_99=Artifact.load(os.path.join(datapath, 'qiime/rooted_tree_99.qza'))\n",
    "bombusMeta = Metadata.load(os.path.join(datapath, 'BombusMetadata.tsv'))"
   ]
  },
  {
   "cell_type": "code",
   "execution_count": 47,
   "metadata": {},
   "outputs": [],
   "source": [
    "rarefaction = diversity.actions.alpha_rarefaction(table = mt_99,\n",
    "                                                 max_depth = 15000,\n",
    "                                                 phylogeny = rooted_tree_99,\n",
    "                                                 metadata = bombusMeta)\n",
    "rarefaction.visualization.save(os.path.join(datapath, 'qiime/rarefaction.qzv'))\n",
    "rarefaction = Visualization.load(os.path.join(datapath, 'qiime/rarefaction.qzv'))"
   ]
  },
  {
   "cell_type": "markdown",
   "metadata": {},
   "source": [
    "**4k looks good**\n",
    "- shannon plateaus, total features still increases for a bit, but assuming that theyre fringe otus"
   ]
  },
  {
   "cell_type": "code",
   "execution_count": 51,
   "metadata": {},
   "outputs": [],
   "source": [
    "#rarefaction"
   ]
  },
  {
   "cell_type": "code",
   "execution_count": 80,
   "metadata": {},
   "outputs": [],
   "source": [
    "mt_99_rare = feature_table.methods.rarefy(table = mt_99,\n",
    "                                          sampling_depth = 4000)"
   ]
  },
  {
   "cell_type": "code",
   "execution_count": 83,
   "metadata": {},
   "outputs": [
    {
     "data": {
      "text/plain": [
       "(631, 1519)"
      ]
     },
     "execution_count": 83,
     "metadata": {},
     "output_type": "execute_result"
    }
   ],
   "source": [
    "mt_99_rare.rarefied_table.view(pd.DataFrame).shape"
   ]
  },
  {
   "cell_type": "code",
   "execution_count": 84,
   "metadata": {},
   "outputs": [
    {
     "data": {
      "text/plain": [
       "(638, 2388)"
      ]
     },
     "execution_count": 84,
     "metadata": {},
     "output_type": "execute_result"
    }
   ],
   "source": [
    "mt_99.view(pd.DataFrame).shape"
   ]
  },
  {
   "cell_type": "code",
   "execution_count": 16,
   "metadata": {},
   "outputs": [
    {
     "data": {
      "text/plain": [
       "'../Data/qiime/mt_99_rare.qza'"
      ]
     },
     "execution_count": 16,
     "metadata": {},
     "output_type": "execute_result"
    }
   ],
   "source": [
    "mt_99_rare.rarefied_table.save(os.path.join(datapath, 'qiime', 'mt_99_rare.qza'))"
   ]
  },
  {
   "cell_type": "markdown",
   "metadata": {},
   "source": [
    "## Create a level-6 taxonomy table"
   ]
  },
  {
   "cell_type": "code",
   "execution_count": 75,
   "metadata": {},
   "outputs": [],
   "source": [
    "mt_99 = Artifact.load(os.path.join(datapath, 'qiime', 'mt_99.qza'))\n",
    "taxa_99 = Artifact.load(os.path.join(datapath, 'qiime', 'taxonomy_99.qza'))\n"
   ]
  },
  {
   "cell_type": "code",
   "execution_count": 77,
   "metadata": {},
   "outputs": [
    {
     "data": {
      "text/plain": [
       "'../Data/qiime/mt_99_c6.qza'"
      ]
     },
     "execution_count": 77,
     "metadata": {},
     "output_type": "execute_result"
    }
   ],
   "source": [
    "mt_99_c6 = collapse(mt_99, taxa_99, 6).collapsed_table\n",
    "mt_99_c6.save(os.path.join(datapath, 'qiime', 'mt_99_c6.qza'))\n"
   ]
  }
 ],
 "metadata": {
  "kernelspec": {
   "display_name": "Python 3 (ipykernel)",
   "language": "python",
   "name": "python3"
  },
  "language_info": {
   "codemirror_mode": {
    "name": "ipython",
    "version": 3
   },
   "file_extension": ".py",
   "mimetype": "text/x-python",
   "name": "python",
   "nbconvert_exporter": "python",
   "pygments_lexer": "ipython3",
   "version": "3.8.17"
  },
  "toc": {
   "base_numbering": 1,
   "nav_menu": {},
   "number_sections": true,
   "sideBar": true,
   "skip_h1_title": false,
   "title_cell": "Table of Contents",
   "title_sidebar": "Contents",
   "toc_cell": true,
   "toc_position": {},
   "toc_section_display": true,
   "toc_window_display": false
  },
  "varInspector": {
   "cols": {
    "lenName": 16,
    "lenType": 16,
    "lenVar": 40
   },
   "kernels_config": {
    "python": {
     "delete_cmd_postfix": "",
     "delete_cmd_prefix": "del ",
     "library": "var_list.py",
     "varRefreshCmd": "print(var_dic_list())"
    },
    "r": {
     "delete_cmd_postfix": ") ",
     "delete_cmd_prefix": "rm(",
     "library": "var_list.r",
     "varRefreshCmd": "cat(var_dic_list()) "
    }
   },
   "types_to_exclude": [
    "module",
    "function",
    "builtin_function_or_method",
    "instance",
    "_Feature"
   ],
   "window_display": false
  }
 },
 "nbformat": 4,
 "nbformat_minor": 4
}
